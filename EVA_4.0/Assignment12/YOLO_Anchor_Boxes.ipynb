{
  "nbformat": 4,
  "nbformat_minor": 0,
  "metadata": {
    "colab": {
      "name": "Copy of S12 YOLO Anchor Boxes.ipynb",
      "provenance": [],
      "include_colab_link": true
    },
    "kernelspec": {
      "name": "python3",
      "display_name": "Python 3"
    }
  },
  "cells": [
    {
      "cell_type": "markdown",
      "metadata": {
        "id": "view-in-github",
        "colab_type": "text"
      },
      "source": [
        "<a href=\"https://colab.research.google.com/github/shubhamk16/Deep_learning/blob/master/S12_YOLO_Anchor_Boxes.ipynb\" target=\"_parent\"><img src=\"https://colab.research.google.com/assets/colab-badge.svg\" alt=\"Open In Colab\"/></a>"
      ]
    },
    {
      "cell_type": "markdown",
      "metadata": {
        "id": "jo027XcEDI-Y",
        "colab_type": "text"
      },
      "source": [
        "# Finding Anchor Boxes for YOLO V2\n",
        "\n",
        "In this assignment we have to download 50 Dog images, annotate them and then use K means to find otpimal luster boxes.\n",
        "\n",
        "The process is as follows:\n",
        "1. Compute the center location, width and height of each bounding box, and normalize it by image dimensions (in the dataset)\n",
        "2. Plot the h and w for each box as shown in the right \"h vs w graph\"\n",
        "3. Use K-means clustering to compute cluster centers (centroids).\n",
        "4. Compute the different numbers of clusters and compute the mean of maximum IOU between bounding boxes and individual anchors.\n",
        "5. Plot centroids vs mean IOU.\n",
        "6. Pick the top 5 anchor boxes (5 for YOLOv2 where IOU was above 65%)"
      ]
    },
    {
      "cell_type": "code",
      "metadata": {
        "id": "QCIF2tcfDIIM",
        "colab_type": "code",
        "outputId": "c6c8d420-b5f9-40b7-d905-d4b8f254e15a",
        "colab": {
          "base_uri": "https://localhost:8080/",
          "height": 119
        }
      },
      "source": [
        "!git clone https://github.com/abhinavdayal/EVA4Data.git"
      ],
      "execution_count": 0,
      "outputs": [
        {
          "output_type": "stream",
          "text": [
            "Cloning into 'EVA4Data'...\n",
            "remote: Enumerating objects: 11, done.\u001b[K\n",
            "remote: Counting objects:   9% (1/11)\u001b[K\rremote: Counting objects:  18% (2/11)\u001b[K\rremote: Counting objects:  27% (3/11)\u001b[K\rremote: Counting objects:  36% (4/11)\u001b[K\rremote: Counting objects:  45% (5/11)\u001b[K\rremote: Counting objects:  54% (6/11)\u001b[K\rremote: Counting objects:  63% (7/11)\u001b[K\rremote: Counting objects:  72% (8/11)\u001b[K\rremote: Counting objects:  81% (9/11)\u001b[K\rremote: Counting objects:  90% (10/11)\u001b[K\rremote: Counting objects: 100% (11/11)\u001b[K\rremote: Counting objects: 100% (11/11), done.\u001b[K\n",
            "remote: Compressing objects: 100% (11/11), done.\u001b[K\n",
            "remote: Total 87 (delta 3), reused 0 (delta 0), pack-reused 76\u001b[K\n",
            "Unpacking objects: 100% (87/87), done.\n"
          ],
          "name": "stdout"
        }
      ]
    },
    {
      "cell_type": "code",
      "metadata": {
        "id": "LZOiJ9Ukky4Z",
        "colab_type": "code",
        "outputId": "a7a2556e-78ed-4d6e-8b99-66afa5bb2068",
        "colab": {
          "base_uri": "https://localhost:8080/",
          "height": 71
        }
      },
      "source": [
        "from google.colab import drive\n",
        "drive.mount('/content/drive')\n",
        "%cd/content/drive/My Drive/EVA4_LIBRARY"
      ],
      "execution_count": 0,
      "outputs": [
        {
          "output_type": "stream",
          "text": [
            "Drive already mounted at /content/drive; to attempt to forcibly remount, call drive.mount(\"/content/drive\", force_remount=True).\n",
            "/content/drive/My Drive/EVA4_LIBRARY\n"
          ],
          "name": "stdout"
        }
      ]
    },
    {
      "cell_type": "code",
      "metadata": {
        "id": "1N7vt8HEGt-a",
        "colab_type": "code",
        "colab": {}
      },
      "source": [
        "from tqdm.notebook import tqdm, trange\n",
        "path = '/content/EVA4Data/Dogs/'\n",
        "import os\n",
        "from skimage import io\n",
        "sizedict = {}\n",
        "for filename in os.listdir(path):\n",
        "  image = io.imread(f'{path}{filename}', as_gray=False, pilmode=\"RGB\")\n",
        "  sizedict[filename] = image.shape[:2]"
      ],
      "execution_count": 0,
      "outputs": []
    },
    {
      "cell_type": "code",
      "metadata": {
        "id": "N1shft8dIvXX",
        "colab_type": "code",
        "colab": {}
      },
      "source": [
        "import json\n",
        "annot = json.load(open('Dogs_annotations.json'))"
      ],
      "execution_count": 0,
      "outputs": []
    },
    {
      "cell_type": "code",
      "metadata": {
        "id": "47t0dm99kk7w",
        "colab_type": "code",
        "outputId": "aae95cc9-4a50-4845-f477-6007b8fb3c37",
        "colab": {
          "base_uri": "https://localhost:8080/",
          "height": 71
        }
      },
      "source": [
        ""
      ],
      "execution_count": 0,
      "outputs": [
        {
          "output_type": "stream",
          "text": [
            "Drive already mounted at /content/drive; to attempt to forcibly remount, call drive.mount(\"/content/drive\", force_remount=True).\n",
            "/content/drive/My Drive/EVA4_LIBRARY\n"
          ],
          "name": "stdout"
        }
      ]
    },
    {
      "cell_type": "markdown",
      "metadata": {
        "id": "cuenHOaVdKHB",
        "colab_type": "text"
      },
      "source": [
        "## Prepare data for clustering"
      ]
    },
    {
      "cell_type": "code",
      "metadata": {
        "id": "edzwE3gzRoNZ",
        "colab_type": "code",
        "outputId": "48ced5b9-30a3-42aa-dbc2-e2220ea51909",
        "colab": {
          "base_uri": "https://localhost:8080/",
          "height": 202
        }
      },
      "source": [
        "import pandas as pd\n",
        "import math\n",
        "df = pd.DataFrame()\n",
        "#df.columns = ['name', 'height', 'width', 'x', 'y', 'image_w', 'image_h']\n",
        "data = []\n",
        "for k, v in annot.items():\n",
        "  for r in v['regions']:\n",
        "    d = {'name': v['filename'] }\n",
        "    s = r['shape_attributes']\n",
        "    h, w = sizedict[v['filename']]\n",
        "    d['h'] = s['height']\n",
        "    d['w'] = s['width']\n",
        "    d['x'] = s['x']\n",
        "    d['y'] = s['y']\n",
        "    d['image_w'] = w\n",
        "    d['image_h'] = h\n",
        "    d['height'] = s['height']/h\n",
        "    d['width'] = s['width']/w\n",
        "    d['log_height'] = math.log(s['height']/h)\n",
        "    d['log_width'] = math.log(s['width']/h)\n",
        "\n",
        "    data.append(d)\n",
        "\n",
        "\n",
        "df = pd.DataFrame.from_dict(data, orient='columns')\n",
        "df.head()"
      ],
      "execution_count": 0,
      "outputs": [
        {
          "output_type": "execute_result",
          "data": {
            "text/html": [
              "<div>\n",
              "<style scoped>\n",
              "    .dataframe tbody tr th:only-of-type {\n",
              "        vertical-align: middle;\n",
              "    }\n",
              "\n",
              "    .dataframe tbody tr th {\n",
              "        vertical-align: top;\n",
              "    }\n",
              "\n",
              "    .dataframe thead th {\n",
              "        text-align: right;\n",
              "    }\n",
              "</style>\n",
              "<table border=\"1\" class=\"dataframe\">\n",
              "  <thead>\n",
              "    <tr style=\"text-align: right;\">\n",
              "      <th></th>\n",
              "      <th>name</th>\n",
              "      <th>h</th>\n",
              "      <th>w</th>\n",
              "      <th>x</th>\n",
              "      <th>y</th>\n",
              "      <th>image_w</th>\n",
              "      <th>image_h</th>\n",
              "      <th>height</th>\n",
              "      <th>width</th>\n",
              "      <th>log_height</th>\n",
              "      <th>log_width</th>\n",
              "    </tr>\n",
              "  </thead>\n",
              "  <tbody>\n",
              "    <tr>\n",
              "      <th>0</th>\n",
              "      <td>Dog-01.jpg</td>\n",
              "      <td>198</td>\n",
              "      <td>180</td>\n",
              "      <td>154</td>\n",
              "      <td>14</td>\n",
              "      <td>480</td>\n",
              "      <td>240</td>\n",
              "      <td>0.825000</td>\n",
              "      <td>0.375000</td>\n",
              "      <td>-0.192372</td>\n",
              "      <td>-0.287682</td>\n",
              "    </tr>\n",
              "    <tr>\n",
              "      <th>1</th>\n",
              "      <td>Dog-02.jpg</td>\n",
              "      <td>215</td>\n",
              "      <td>245</td>\n",
              "      <td>0</td>\n",
              "      <td>0</td>\n",
              "      <td>415</td>\n",
              "      <td>217</td>\n",
              "      <td>0.990783</td>\n",
              "      <td>0.590361</td>\n",
              "      <td>-0.009259</td>\n",
              "      <td>0.121361</td>\n",
              "    </tr>\n",
              "    <tr>\n",
              "      <th>2</th>\n",
              "      <td>Dog-03.jpg</td>\n",
              "      <td>321</td>\n",
              "      <td>411</td>\n",
              "      <td>139</td>\n",
              "      <td>45</td>\n",
              "      <td>552</td>\n",
              "      <td>368</td>\n",
              "      <td>0.872283</td>\n",
              "      <td>0.744565</td>\n",
              "      <td>-0.136642</td>\n",
              "      <td>0.110510</td>\n",
              "    </tr>\n",
              "    <tr>\n",
              "      <th>3</th>\n",
              "      <td>Dog-04.jpg</td>\n",
              "      <td>355</td>\n",
              "      <td>265</td>\n",
              "      <td>5</td>\n",
              "      <td>4</td>\n",
              "      <td>283</td>\n",
              "      <td>368</td>\n",
              "      <td>0.964674</td>\n",
              "      <td>0.936396</td>\n",
              "      <td>-0.035965</td>\n",
              "      <td>-0.328353</td>\n",
              "    </tr>\n",
              "    <tr>\n",
              "      <th>4</th>\n",
              "      <td>Dog-05.jpg</td>\n",
              "      <td>316</td>\n",
              "      <td>279</td>\n",
              "      <td>11</td>\n",
              "      <td>40</td>\n",
              "      <td>293</td>\n",
              "      <td>368</td>\n",
              "      <td>0.858696</td>\n",
              "      <td>0.952218</td>\n",
              "      <td>-0.152341</td>\n",
              "      <td>-0.276871</td>\n",
              "    </tr>\n",
              "  </tbody>\n",
              "</table>\n",
              "</div>"
            ],
            "text/plain": [
              "         name    h    w    x  ...    height     width  log_height  log_width\n",
              "0  Dog-01.jpg  198  180  154  ...  0.825000  0.375000   -0.192372  -0.287682\n",
              "1  Dog-02.jpg  215  245    0  ...  0.990783  0.590361   -0.009259   0.121361\n",
              "2  Dog-03.jpg  321  411  139  ...  0.872283  0.744565   -0.136642   0.110510\n",
              "3  Dog-04.jpg  355  265    5  ...  0.964674  0.936396   -0.035965  -0.328353\n",
              "4  Dog-05.jpg  316  279   11  ...  0.858696  0.952218   -0.152341  -0.276871\n",
              "\n",
              "[5 rows x 11 columns]"
            ]
          },
          "metadata": {
            "tags": []
          },
          "execution_count": 218
        }
      ]
    },
    {
      "cell_type": "code",
      "metadata": {
        "id": "1zytGyWzSE1Z",
        "colab_type": "code",
        "outputId": "022f879e-5b73-4876-e7ea-a55079c7be3d",
        "colab": {
          "base_uri": "https://localhost:8080/",
          "height": 297
        }
      },
      "source": [
        "df.plot.scatter('width', 'height')"
      ],
      "execution_count": 0,
      "outputs": [
        {
          "output_type": "execute_result",
          "data": {
            "text/plain": [
              "<matplotlib.axes._subplots.AxesSubplot at 0x7fd6b84e7668>"
            ]
          },
          "metadata": {
            "tags": []
          },
          "execution_count": 219
        },
        {
          "output_type": "display_data",
          "data": {
            "image/png": "[encoded data removed]",
            "text/plain": [
              "<Figure size 432x288 with 1 Axes>"
            ]
          },
          "metadata": {
            "tags": [],
            "needs_background": "light"
          }
        }
      ]
    },
    {
      "cell_type": "code",
      "metadata": {
        "id": "LU0x1U4OergI",
        "colab_type": "code",
        "outputId": "f77dab00-fe15-4729-c6e4-fa21ea64fa99",
        "colab": {
          "base_uri": "https://localhost:8080/",
          "height": 297
        }
      },
      "source": [
        "df.plot.scatter('log_width', 'log_height')"
      ],
      "execution_count": 0,
      "outputs": [
        {
          "output_type": "execute_result",
          "data": {
            "text/plain": [
              "<matplotlib.axes._subplots.AxesSubplot at 0x7fd6b9713ac8>"
            ]
          },
          "metadata": {
            "tags": []
          },
          "execution_count": 220
        },
        {
          "output_type": "display_data",
          "data": {
            "image/png": "[encoded data removed]",
            "text/plain": [
              "<Figure size 432x288 with 1 Axes>"
            ]
          },
          "metadata": {
            "tags": [],
            "needs_background": "light"
          }
        }
      ]
    },
    {
      "cell_type": "markdown",
      "metadata": {
        "id": "6QOme-DcfBU5",
        "colab_type": "text"
      },
      "source": [
        "## K Means clustering\n",
        "\n",
        "Using Scikit learn's K Means with k from 1 to 20"
      ]
    },
    {
      "cell_type": "code",
      "metadata": {
        "id": "oxFUZbWbe0vF",
        "colab_type": "code",
        "colab": {}
      },
      "source": [
        "from sklearn.cluster import KMeans \n",
        "from sklearn import metrics \n",
        "from scipy.spatial.distance import cdist \n",
        "import numpy as np \n",
        "import matplotlib.pyplot as plt  "
      ],
      "execution_count": 0,
      "outputs": []
    },
    {
      "cell_type": "markdown",
      "metadata": {
        "id": "LqnpJgT99Di7",
        "colab_type": "text"
      },
      "source": [
        "Get the X by using log of width and height"
      ]
    },
    {
      "cell_type": "code",
      "metadata": {
        "id": "mT7QxVFVgJO8",
        "colab_type": "code",
        "colab": {}
      },
      "source": [
        "X = df[['log_width', 'log_height']].to_numpy()"
      ],
      "execution_count": 0,
      "outputs": []
    },
    {
      "cell_type": "markdown",
      "metadata": {
        "id": "ztKqr1Ls9HmI",
        "colab_type": "text"
      },
      "source": [
        "### IOU Calculation\n",
        "Below method will find the best centroid for a given bounding box"
      ]
    },
    {
      "cell_type": "code",
      "metadata": {
        "id": "XdYbhcRbwrhN",
        "colab_type": "code",
        "colab": {}
      },
      "source": [
        "# given centroids find the maximum IOU of a bbox\n",
        "def iou(box, centroids):\n",
        "    x = np.minimum(np.exp(centroids[:, 0]), np.exp(box[0]))\n",
        "    y = np.minimum(np.exp(centroids[:, 1]), np.exp(box[1]))\n",
        "\n",
        "    intersection = x * y\n",
        "    box_area = np.exp(box[0]) * np.exp(box[1])\n",
        "    centroid_area = np.exp(centroids[:, 0]) * np.exp(centroids[:, 1])\n",
        "\n",
        "    iou_ = intersection / (box_area + centroid_area - intersection)\n",
        "    #return iou_\n",
        "    return (np.max(iou_), np.argmax(iou_))"
      ],
      "execution_count": 0,
      "outputs": []
    },
    {
      "cell_type": "markdown",
      "metadata": {
        "id": "giAtX8WL9P29",
        "colab_type": "text"
      },
      "source": [
        "### Execute K Means\n",
        "Now let us run our kmeans. We will calculate for each value of k\n",
        "* distortions\n",
        "* inertias\n",
        "* cluster memberships\n",
        "* cluster centroids\n",
        "* mean of maximum IOU between bounding boxes and individual anchors"
      ]
    },
    {
      "cell_type": "code",
      "metadata": {
        "id": "Q6NAJCimfYph",
        "colab_type": "code",
        "colab": {}
      },
      "source": [
        "distortions = [] \n",
        "inertias = [] \n",
        "mapping1 = {} \n",
        "mapping2 = {} \n",
        "centroids = {}\n",
        "memberships = {}\n",
        "miou = []\n",
        "K = range(1, 21)\n",
        "\n",
        "for k in K:\n",
        "  kmeansModel = KMeans(n_clusters=k).fit(X)\n",
        "  distortions.append(sum(np.min(cdist(X, kmeansModel.cluster_centers_, \n",
        "                      'euclidean'),axis=1)) / X.shape[0]) \n",
        "  inertias.append(kmeansModel.inertia_) \n",
        "\n",
        "  mapping1[k] = sum(np.min(cdist(X, kmeansModel.cluster_centers_, \n",
        "                'euclidean'),axis=1)) / X.shape[0] \n",
        "  mapping2[k] = kmeansModel.inertia_ \n",
        "  centroids[k] = kmeansModel.cluster_centers_\n",
        "  maxiou = np.array([iou(b, centroids[k])  for b in X])\n",
        "  memberships[k] = maxiou[:, 1].astype(np.uint8)\n",
        "  # find mean of maximum IOU between bounding boxes and individual anchors\n",
        "  miou.append(np.mean(maxiou[:, 0]))"
      ],
      "execution_count": 0,
      "outputs": []
    },
    {
      "cell_type": "code",
      "metadata": {
        "id": "GIoR-hodgbaY",
        "colab_type": "code",
        "outputId": "aca1210b-034d-49d9-b55d-c0aedaaa572e",
        "colab": {
          "base_uri": "https://localhost:8080/",
          "height": 295
        }
      },
      "source": [
        "plt.plot(K, distortions, 'bx-') \n",
        "plt.xlabel('Values of K') \n",
        "plt.ylabel('Distortion') \n",
        "plt.title('The Elbow Method using Distortion') \n",
        "plt.show() "
      ],
      "execution_count": 0,
      "outputs": [
        {
          "output_type": "display_data",
          "data": {
            "image/png": "[encoded data removed]",
            "text/plain": [
              "<Figure size 432x288 with 1 Axes>"
            ]
          },
          "metadata": {
            "tags": [],
            "needs_background": "light"
          }
        }
      ]
    },
    {
      "cell_type": "code",
      "metadata": {
        "id": "iiUZ_pVkgiRz",
        "colab_type": "code",
        "outputId": "b9ff5959-f546-4ed4-8674-a77bfb39c84e",
        "colab": {
          "base_uri": "https://localhost:8080/",
          "height": 295
        }
      },
      "source": [
        "plt.plot(K, inertias, 'bx-') \n",
        "plt.xlabel('Values of K') \n",
        "plt.ylabel('Inertia') \n",
        "plt.title('The Elbow Method using Inertia') \n",
        "plt.show() "
      ],
      "execution_count": 0,
      "outputs": [
        {
          "output_type": "display_data",
          "data": {
            "image/png": "[encoded data removed]",
            "text/plain": [
              "<Figure size 432x288 with 1 Axes>"
            ]
          },
          "metadata": {
            "tags": [],
            "needs_background": "light"
          }
        }
      ]
    },
    {
      "cell_type": "markdown",
      "metadata": {
        "id": "dw5FOItv9kTf",
        "colab_type": "text"
      },
      "source": [
        "### Plot centroid vs mean IOU"
      ]
    },
    {
      "cell_type": "code",
      "metadata": {
        "id": "n3lUvq8z5HJW",
        "colab_type": "code",
        "outputId": "d183ed3e-403d-4753-ae55-20d58a851bea",
        "colab": {
          "base_uri": "https://localhost:8080/",
          "height": 279
        }
      },
      "source": [
        "def plotIOU(X, Y):\n",
        "  plt.scatter(X, Y)\n",
        "  plt.plot(X, Y)\n",
        "  plt.xlabel(\"centroid\")\n",
        "  plt.ylabel(\"mean maximum IOU\")\n",
        "  plt.xticks(np.arange(1, 21))\n",
        "  plt.show()\n",
        "\n",
        "plotIOU(K, miou)"
      ],
      "execution_count": 0,
      "outputs": [
        {
          "output_type": "display_data",
          "data": {
            "image/png": "[encoded data removed]",
            "text/plain": [
              "<Figure size 432x288 with 1 Axes>"
            ]
          },
          "metadata": {
            "tags": [],
            "needs_background": "light"
          }
        }
      ]
    },
    {
      "cell_type": "markdown",
      "metadata": {
        "id": "ZCJsGHgVhRn0",
        "colab_type": "text"
      },
      "source": [
        "While from both of above plots K=3 seems to be doing OK, but 5 is also not a bad choice. Becase after 5, mostly it is liner with a flat slope. Let us do k = 3 to 6 and visualize\n",
        "\n",
        "### Cluster Plots"
      ]
    },
    {
      "cell_type": "code",
      "metadata": {
        "id": "ln1TLN2Jiq3d",
        "colab_type": "code",
        "colab": {}
      },
      "source": [
        "import seaborn as sns\n",
        "def plotclusters(k):\n",
        "  #ax = df.plot.scatter('log_width', 'log_height', c=f'cluster{k}', colormap='viridis')\n",
        "  ax = sns.scatterplot('log_width', 'log_height', data=df, hue=memberships[k], style = memberships[k], palette=\"Set2\")\n",
        "  ax.scatter(centroids[k][:,0], centroids[k][:,1], marker='*', c='black')\n",
        "  plt.show()"
      ],
      "execution_count": 0,
      "outputs": []
    },
    {
      "cell_type": "markdown",
      "metadata": {
        "id": "2cljZjos9vkh",
        "colab_type": "text"
      },
      "source": [
        "## Customized K Means\n",
        "While above works well, however while we are using membership based upon max IOU, we are using other default distance metric to find which cluster is close to a point in K means. That is because scikit learn's k means does not allow us to provision our own distance metric.\n"
      ]
    },
    {
      "cell_type": "code",
      "metadata": {
        "id": "Um2EZ2bS5CYE",
        "colab_type": "code",
        "outputId": "a93c23eb-3c2a-4972-8930-a78034ffeeaf",
        "colab": {
          "base_uri": "https://localhost:8080/",
          "height": 367
        }
      },
      "source": [
        "!pip install pyclustering"
      ],
      "execution_count": 0,
      "outputs": [
        {
          "output_type": "stream",
          "text": [
            "Collecting pyclustering\n",
            "\u001b[?25l  Downloading https://files.pythonhosted.org/packages/af/0f/6ef1ce5607076132b7ca2727ace4a2b61d81aee7d132aef466cc0c68f548/pyclustering-0.9.3.1.tar.gz (2.6MB)\n",
            "\u001b[K     |████████████████████████████████| 2.6MB 4.7MB/s \n",
            "\u001b[?25hRequirement already satisfied: scipy in /usr/local/lib/python3.6/dist-packages (from pyclustering) (1.4.1)\n",
            "Requirement already satisfied: matplotlib in /usr/local/lib/python3.6/dist-packages (from pyclustering) (3.2.1)\n",
            "Requirement already satisfied: numpy in /usr/local/lib/python3.6/dist-packages (from pyclustering) (1.18.2)\n",
            "Requirement already satisfied: Pillow in /usr/local/lib/python3.6/dist-packages (from pyclustering) (7.0.0)\n",
            "Requirement already satisfied: python-dateutil>=2.1 in /usr/local/lib/python3.6/dist-packages (from matplotlib->pyclustering) (2.8.1)\n",
            "Requirement already satisfied: kiwisolver>=1.0.1 in /usr/local/lib/python3.6/dist-packages (from matplotlib->pyclustering) (1.2.0)\n",
            "Requirement already satisfied: cycler>=0.10 in /usr/local/lib/python3.6/dist-packages (from matplotlib->pyclustering) (0.10.0)\n",
            "Requirement already satisfied: pyparsing!=2.0.4,!=2.1.2,!=2.1.6,>=2.0.1 in /usr/local/lib/python3.6/dist-packages (from matplotlib->pyclustering) (2.4.7)\n",
            "Requirement already satisfied: six>=1.5 in /usr/local/lib/python3.6/dist-packages (from python-dateutil>=2.1->matplotlib->pyclustering) (1.12.0)\n",
            "Building wheels for collected packages: pyclustering\n",
            "  Building wheel for pyclustering (setup.py) ... \u001b[?25l\u001b[?25hdone\n",
            "  Created wheel for pyclustering: filename=pyclustering-0.9.3.1-cp36-none-any.whl size=2599356 sha256=a72b7ffeedd9b76c7838d1b34d27d0d4de842198a52b0de456aca8e7833af2f8\n",
            "  Stored in directory: /root/.cache/pip/wheels/34/d6/ac/59746c226a35752edcd786d3ab96f9b547a2b70d0fbda92015\n",
            "Successfully built pyclustering\n",
            "Installing collected packages: pyclustering\n",
            "Successfully installed pyclustering-0.9.3.1\n"
          ],
          "name": "stdout"
        }
      ]
    },
    {
      "cell_type": "markdown",
      "metadata": {
        "id": "qd-BTOYm-YzR",
        "colab_type": "text"
      },
      "source": [
        "### IOU based Distance Metric\n",
        "IOU is a number between 0 and 1. The larger the better. So distance for k means should be 1 - IOU. We will use another package to achieve that."
      ]
    },
    {
      "cell_type": "code",
      "metadata": {
        "id": "SfLUWaE8-YMS",
        "colab_type": "code",
        "colab": {}
      },
      "source": [
        "# given centroids find the maximum IOU of a bbox\n",
        "def ioudist(box, centroid):\n",
        "    #print(centroid)\n",
        "    x = np.minimum(np.exp(centroid[0]), np.exp(box[0]))\n",
        "    y = np.minimum(np.exp(centroid[1]), np.exp(box[1]))\n",
        "\n",
        "    intersection = x * y\n",
        "    box_area = np.exp(box[0]) * np.exp(box[1])\n",
        "    centroid_area = np.exp(centroid[0]) * np.exp(centroid[1])\n",
        "\n",
        "    iou_ = intersection / (box_area + centroid_area - intersection)\n",
        "    return 1 - iou_"
      ],
      "execution_count": 0,
      "outputs": []
    },
    {
      "cell_type": "markdown",
      "metadata": {
        "id": "K3C1ZpF3-gwT",
        "colab_type": "text"
      },
      "source": [
        "### Clustering K MEANS\n",
        "Again we shall store the memberships, mean max IOU for each centroid etc. as before"
      ]
    },
    {
      "cell_type": "code",
      "metadata": {
        "id": "Y32YEWMI554l",
        "colab_type": "code",
        "colab": {}
      },
      "source": [
        "from pyclustering.cluster.kmeans import kmeans, kmeans_visualizer\n",
        "from pyclustering.cluster.center_initializer import kmeans_plusplus_initializer\n",
        "from pyclustering.utils.metric import type_metric, distance_metric\n",
        "\n",
        "metric = distance_metric(type_metric.USER_DEFINED, func=ioudist)\n",
        "clusters = []\n",
        "final_centers = []\n",
        "mean_iou = []\n",
        "for k in K:\n",
        "  # Prepare initial centers using K-Means++ method.\n",
        "  initial_centers = kmeans_plusplus_initializer(X, k).initialize()\n",
        "\n",
        "  if k==1:\n",
        "    kmeans_instance = kmeans(X, initial_centers)  \n",
        "  else:\n",
        "    kmeans_instance = kmeans(X, initial_centers, metric=metric)\n",
        "\n",
        "  kmeans_instance.process()\n",
        "  clusters.append(kmeans_instance.get_clusters())\n",
        "  c = np.array(kmeans_instance.get_centers())\n",
        "  final_centers.append(c)\n",
        "  maxiou = np.array([iou(b, c)  for b in X])\n",
        "  mean_iou.append(np.mean(maxiou[:, 0]))"
      ],
      "execution_count": 0,
      "outputs": []
    },
    {
      "cell_type": "code",
      "metadata": {
        "id": "WcgS-Xxx_XkS",
        "colab_type": "code",
        "outputId": "2b402633-5fe9-4691-95ba-3f2e06d3f852",
        "colab": {
          "base_uri": "https://localhost:8080/",
          "height": 279
        }
      },
      "source": [
        "plotIOU(K, mean_iou)"
      ],
      "execution_count": 0,
      "outputs": [
        {
          "output_type": "display_data",
          "data": {
            "image/png": "[encoded data removed]",
            "text/plain": [
              "<Figure size 432x288 with 1 Axes>"
            ]
          },
          "metadata": {
            "tags": [],
            "needs_background": "light"
          }
        }
      ]
    },
    {
      "cell_type": "markdown",
      "metadata": {
        "id": "H5inyDfePTKF",
        "colab_type": "text"
      },
      "source": [
        "### PLOT Top 3 Anchor boxes where IOU > 75%"
      ]
    },
    {
      "cell_type": "code",
      "metadata": {
        "id": "uct95jTrPSt6",
        "colab_type": "code",
        "colab": {}
      },
      "source": [
        "from matplotlib.collections import PatchCollection\n",
        "from matplotlib.patches import Rectangle\n",
        "\n",
        "def make_anchor_boxes(ax, clusters, facecolor='None', edgecolor='b', alpha=1):\n",
        "\n",
        "    xdata = np.array([0.5]*len(clusters))\n",
        "    ydata = np.array([0.5]*len(clusters))\n",
        "\n",
        "    xerror = np.array([list(np.exp(clusters[:, 0])/2)]*2)\n",
        "    yerror = np.array([list(np.exp(clusters[:, 1])/2)]*2)\n",
        "    # Create list for all the error patches\n",
        "    errorboxes = []\n",
        "\n",
        "    # Loop over data points; create box from errors at each point\n",
        "    for x, y, xe, ye in zip(xdata, ydata, xerror.T, yerror.T):\n",
        "        rect = Rectangle((x - xe[0], y - ye[0]), xe.sum(), ye.sum())\n",
        "        errorboxes.append(rect)\n",
        "\n",
        "    # Create patch collection with specified colour/alpha\n",
        "    pc = PatchCollection(errorboxes, facecolor=facecolor, alpha=alpha,\n",
        "                         edgecolor=edgecolor)\n",
        "\n",
        "    # Add collection to axes\n",
        "    ax.add_collection(pc)\n",
        "\n",
        "    # Plot errorbars\n",
        "    artists = ax.errorbar(xdata, ydata, xerr=xerror, yerr=yerror,\n",
        "                          fmt='None', ecolor='None')\n",
        "\n",
        "    return artists"
      ],
      "execution_count": 0,
      "outputs": []
    },
    {
      "cell_type": "code",
      "metadata": {
        "id": "5F3UHE5xU2_W",
        "colab_type": "code",
        "outputId": "9a5c799f-b87f-465b-f86d-4c95f1749138",
        "colab": {
          "base_uri": "https://localhost:8080/",
          "height": 265
        }
      },
      "source": [
        "# Create figure and axes\n",
        "fig, ax = plt.subplots(1)\n",
        "\n",
        "# Call function to create error boxes\n",
        "_ = make_anchor_boxes(ax, final_centers[2])\n",
        "\n",
        "plt.show()"
      ],
      "execution_count": 0,
      "outputs": [
        {
          "output_type": "display_data",
          "data": {
            "image/png": "[encoded data removed]",
            "text/plain": [
              "<Figure size 432x288 with 1 Axes>"
            ]
          },
          "metadata": {
            "tags": [],
            "needs_background": "light"
          }
        }
      ]
    },
    {
      "cell_type": "code",
      "metadata": {
        "id": "DwPlYC8vT3li",
        "colab_type": "code",
        "outputId": "9b133456-fb01-4a7a-9200-f2257d413948",
        "colab": {
          "base_uri": "https://localhost:8080/",
          "height": 265
        }
      },
      "source": [
        "# Create figure and axes\n",
        "fig, ax = plt.subplots(1)\n",
        "\n",
        "# Call function to create error boxes\n",
        "_ = make_anchor_boxes(ax, final_centers[4])\n",
        "\n",
        "plt.show()"
      ],
      "execution_count": 0,
      "outputs": [
        {
          "output_type": "display_data",
          "data": {
            "image/png": "[encoded data removed]",
            "text/plain": [
              "<Figure size 432x288 with 1 Axes>"
            ]
          },
          "metadata": {
            "tags": [],
            "needs_background": "light"
          }
        }
      ]
    }
  ]
}
